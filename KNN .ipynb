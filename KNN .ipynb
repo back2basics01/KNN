{
 "cells": [
  {
   "cell_type": "code",
   "execution_count": 18,
   "metadata": {},
   "outputs": [],
   "source": [
    "import pandas as pd\n",
    "from sklearn.neighbors import NearestNeighbors"
   ]
  },
  {
   "cell_type": "code",
   "execution_count": 19,
   "metadata": {},
   "outputs": [],
   "source": [
    "melbourne = pd.read_csv(\"Melbourne_housing_full.csv\") "
   ]
  },
  {
   "cell_type": "code",
   "execution_count": 21,
   "metadata": {},
   "outputs": [],
   "source": [
    "melbourne.dropna(axis = 0, how = 'any', thresh = None, subset = None, inplace = True)  # axis 0 drops rows with missing values"
   ]
  },
  {
   "cell_type": "code",
   "execution_count": 32,
   "metadata": {},
   "outputs": [],
   "source": [
    "data_set = melbourne.loc[:, ['Price', 'Distance', 'Bedroom2', 'Bathroom', \n",
    "                             'Landsize', 'YearBuilt' ]].values"
   ]
  },
  {
   "cell_type": "code",
   "execution_count": 36,
   "metadata": {},
   "outputs": [],
   "source": [
    "ideal_home = [800000,5,2,3,150,2004]"
   ]
  },
  {
   "cell_type": "code",
   "execution_count": 34,
   "metadata": {},
   "outputs": [],
   "source": [
    "model = NearestNeighbors(n_neighbors = 3).fit(data_set)"
   ]
  },
  {
   "cell_type": "code",
   "execution_count": 38,
   "metadata": {},
   "outputs": [],
   "source": [
    "ideal_homes = (model.kneighbors([ideal_home]))"
   ]
  },
  {
   "cell_type": "code",
   "execution_count": 39,
   "metadata": {},
   "outputs": [
    {
     "name": "stdout",
     "output_type": "stream",
     "text": [
      "(array([[14.04421589, 19.39071943, 33.9889688 ]]), array([[4946, 3630, 8736]]))\n"
     ]
    }
   ],
   "source": [
    "print(ideal_homes)"
   ]
  },
  {
   "cell_type": "code",
   "execution_count": 44,
   "metadata": {},
   "outputs": [],
   "source": [
    "home_1 = ideal_homes[1][0][0]\n",
    "home_2 = ideal_homes[1][0][1]\n",
    "home_3 = ideal_homes[1][0][2]"
   ]
  },
  {
   "cell_type": "code",
   "execution_count": 54,
   "metadata": {},
   "outputs": [
    {
     "data": {
      "text/plain": [
       "Suburb                       Essendon North\n",
       "Address                        2/9 Grace St\n",
       "Rooms                                     3\n",
       "Type                                      t\n",
       "Price                                800000\n",
       "Method                                   PI\n",
       "SellerG                               Frank\n",
       "Date                             17/06/2017\n",
       "Distance                                8.2\n",
       "Postcode                               3041\n",
       "Bedroom2                                  3\n",
       "Bathroom                                  2\n",
       "Car                                       1\n",
       "Landsize                                161\n",
       "BuildingArea                            149\n",
       "YearBuilt                              2012\n",
       "CouncilArea      Moonee Valley City Council\n",
       "Lattitude                          -37.7357\n",
       "Longtitude                          144.894\n",
       "Regionname             Western Metropolitan\n",
       "Propertycount                          1308\n",
       "Name: 15620, dtype: object"
      ]
     },
     "execution_count": 54,
     "metadata": {},
     "output_type": "execute_result"
    }
   ],
   "source": [
    "melbourne.iloc[home_1]"
   ]
  },
  {
   "cell_type": "code",
   "execution_count": 52,
   "metadata": {},
   "outputs": [
    {
     "data": {
      "text/plain": [
       "Suburb                         Yarraville\n",
       "Address                    16/11 Berry St\n",
       "Rooms                                   3\n",
       "Type                                    t\n",
       "Price                              800000\n",
       "Method                                 VB\n",
       "SellerG                               Jas\n",
       "Date                           28/05/2016\n",
       "Distance                                7\n",
       "Postcode                             3013\n",
       "Bedroom2                                3\n",
       "Bathroom                                2\n",
       "Car                                     1\n",
       "Landsize                              169\n",
       "BuildingArea                          150\n",
       "YearBuilt                            2007\n",
       "CouncilArea      Maribyrnong City Council\n",
       "Lattitude                        -37.8122\n",
       "Longtitude                        144.897\n",
       "Regionname           Western Metropolitan\n",
       "Propertycount                        6543\n",
       "Name: 10980, dtype: object"
      ]
     },
     "execution_count": 52,
     "metadata": {},
     "output_type": "execute_result"
    }
   ],
   "source": [
    "melbourne.iloc[home_2]"
   ]
  },
  {
   "cell_type": "code",
   "execution_count": 53,
   "metadata": {},
   "outputs": [
    {
     "data": {
      "text/plain": [
       "Suburb                        Essendon West\n",
       "Address                      28B Emerald St\n",
       "Rooms                                     4\n",
       "Type                                      t\n",
       "Price                                800000\n",
       "Method                                   VB\n",
       "SellerG                              Nelson\n",
       "Date                             24/02/2018\n",
       "Distance                                7.5\n",
       "Postcode                               3040\n",
       "Bedroom2                                  4\n",
       "Bathroom                                  3\n",
       "Car                                       1\n",
       "Landsize                                182\n",
       "BuildingArea                            157\n",
       "YearBuilt                              2015\n",
       "CouncilArea      Moonee Valley City Council\n",
       "Lattitude                          -37.7516\n",
       "Longtitude                          144.886\n",
       "Regionname             Western Metropolitan\n",
       "Propertycount                           588\n",
       "Name: 34236, dtype: object"
      ]
     },
     "execution_count": 53,
     "metadata": {},
     "output_type": "execute_result"
    }
   ],
   "source": [
    "melbourne.iloc[home_3]\n"
   ]
  },
  {
   "cell_type": "code",
   "execution_count": null,
   "metadata": {},
   "outputs": [],
   "source": []
  }
 ],
 "metadata": {
  "kernelspec": {
   "display_name": "Python 3",
   "language": "python",
   "name": "python3"
  },
  "language_info": {
   "codemirror_mode": {
    "name": "ipython",
    "version": 3
   },
   "file_extension": ".py",
   "mimetype": "text/x-python",
   "name": "python",
   "nbconvert_exporter": "python",
   "pygments_lexer": "ipython3",
   "version": "3.7.3"
  }
 },
 "nbformat": 4,
 "nbformat_minor": 2
}
